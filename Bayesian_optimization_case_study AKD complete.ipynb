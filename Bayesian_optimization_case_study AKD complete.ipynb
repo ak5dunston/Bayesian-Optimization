{
 "cells": [
  {
   "cell_type": "markdown",
   "metadata": {
    "colab_type": "text",
    "id": "WNK7vbHo-KYU"
   },
   "source": [
    "## Bayesian methods of hyperparameter optimization"
   ]
  },
  {
   "cell_type": "markdown",
   "metadata": {
    "colab_type": "text",
    "id": "BlFdvPwF-KYW"
   },
   "source": [
    "In addition to the random search and the grid search methods for selecting optimal hyperparameters, we can use Bayesian methods of probabilities to select the optimal hyperparameters for an algorithm.\n",
    "\n",
    "In this case study, we will be using the BayesianOptimization library to perform hyperparmater tuning. This library has very good documentation which you can find here: https://github.com/fmfn/BayesianOptimization\n",
    "\n",
    "You will need to install the Bayesian optimization module. Running a cell with an exclamation point in the beginning of the command will run it as a shell command — please do this to install this module from our notebook in the cell below."
   ]
  },
  {
   "cell_type": "code",
   "execution_count": 15,
   "metadata": {
    "colab": {},
    "colab_type": "code",
    "id": "Pssx080d-Ulf"
   },
   "outputs": [],
   "source": [
    "#! pip install bayesian-optimization"
   ]
  },
  {
   "cell_type": "code",
   "execution_count": 17,
   "metadata": {},
   "outputs": [
    {
     "name": "stdout",
     "output_type": "stream",
     "text": [
      "Requirement already satisfied: lightgbm in c:\\users\\ak5du\\anaconda3\\lib\\site-packages (4.5.0)\n",
      "Requirement already satisfied: numpy>=1.17.0 in c:\\users\\ak5du\\anaconda3\\lib\\site-packages (from lightgbm) (1.26.4)\n",
      "Requirement already satisfied: scipy in c:\\users\\ak5du\\anaconda3\\lib\\site-packages (from lightgbm) (1.11.4)\n"
     ]
    }
   ],
   "source": [
    "!pip install lightgbm"
   ]
  },
  {
   "cell_type": "code",
   "execution_count": 19,
   "metadata": {},
   "outputs": [
    {
     "name": "stdout",
     "output_type": "stream",
     "text": [
      "Requirement already satisfied: bayesian-optimization in c:\\users\\ak5du\\anaconda3\\lib\\site-packages (1.5.1)\n",
      "Requirement already satisfied: colorama<0.5.0,>=0.4.6 in c:\\users\\ak5du\\anaconda3\\lib\\site-packages (from bayesian-optimization) (0.4.6)\n",
      "Requirement already satisfied: numpy>=1.25 in c:\\users\\ak5du\\anaconda3\\lib\\site-packages (from bayesian-optimization) (1.26.4)\n",
      "Requirement already satisfied: scikit-learn<2.0.0,>=1.0.0 in c:\\users\\ak5du\\anaconda3\\lib\\site-packages (from bayesian-optimization) (1.2.2)\n",
      "Requirement already satisfied: scipy<2.0.0,>=1.0.0 in c:\\users\\ak5du\\anaconda3\\lib\\site-packages (from bayesian-optimization) (1.11.4)\n",
      "Requirement already satisfied: joblib>=1.1.1 in c:\\users\\ak5du\\anaconda3\\lib\\site-packages (from scikit-learn<2.0.0,>=1.0.0->bayesian-optimization) (1.1.1)\n",
      "Requirement already satisfied: threadpoolctl>=2.0.0 in c:\\users\\ak5du\\anaconda3\\lib\\site-packages (from scikit-learn<2.0.0,>=1.0.0->bayesian-optimization) (2.2.0)\n"
     ]
    }
   ],
   "source": [
    "!pip install -U bayesian-optimization"
   ]
  },
  {
   "cell_type": "code",
   "execution_count": 21,
   "metadata": {},
   "outputs": [
    {
     "name": "stdout",
     "output_type": "stream",
     "text": [
      "Collecting catboost\n",
      "  Downloading catboost-1.2.7-cp311-cp311-win_amd64.whl.metadata (1.2 kB)\n",
      "Requirement already satisfied: graphviz in c:\\users\\ak5du\\anaconda3\\lib\\site-packages (from catboost) (0.20.1)\n",
      "Requirement already satisfied: matplotlib in c:\\users\\ak5du\\anaconda3\\lib\\site-packages (from catboost) (3.8.0)\n",
      "Requirement already satisfied: numpy<2.0,>=1.16.0 in c:\\users\\ak5du\\anaconda3\\lib\\site-packages (from catboost) (1.26.4)\n",
      "Requirement already satisfied: pandas>=0.24 in c:\\users\\ak5du\\anaconda3\\lib\\site-packages (from catboost) (2.1.4)\n",
      "Requirement already satisfied: scipy in c:\\users\\ak5du\\anaconda3\\lib\\site-packages (from catboost) (1.11.4)\n",
      "Requirement already satisfied: plotly in c:\\users\\ak5du\\anaconda3\\lib\\site-packages (from catboost) (5.9.0)\n",
      "Requirement already satisfied: six in c:\\users\\ak5du\\anaconda3\\lib\\site-packages (from catboost) (1.16.0)\n",
      "Requirement already satisfied: python-dateutil>=2.8.2 in c:\\users\\ak5du\\anaconda3\\lib\\site-packages (from pandas>=0.24->catboost) (2.8.2)\n",
      "Requirement already satisfied: pytz>=2020.1 in c:\\users\\ak5du\\anaconda3\\lib\\site-packages (from pandas>=0.24->catboost) (2023.3.post1)\n",
      "Requirement already satisfied: tzdata>=2022.1 in c:\\users\\ak5du\\anaconda3\\lib\\site-packages (from pandas>=0.24->catboost) (2023.3)\n",
      "Requirement already satisfied: contourpy>=1.0.1 in c:\\users\\ak5du\\anaconda3\\lib\\site-packages (from matplotlib->catboost) (1.2.0)\n",
      "Requirement already satisfied: cycler>=0.10 in c:\\users\\ak5du\\anaconda3\\lib\\site-packages (from matplotlib->catboost) (0.11.0)\n",
      "Requirement already satisfied: fonttools>=4.22.0 in c:\\users\\ak5du\\anaconda3\\lib\\site-packages (from matplotlib->catboost) (4.25.0)\n",
      "Requirement already satisfied: kiwisolver>=1.0.1 in c:\\users\\ak5du\\anaconda3\\lib\\site-packages (from matplotlib->catboost) (1.4.4)\n",
      "Requirement already satisfied: packaging>=20.0 in c:\\users\\ak5du\\anaconda3\\lib\\site-packages (from matplotlib->catboost) (23.1)\n",
      "Requirement already satisfied: pillow>=6.2.0 in c:\\users\\ak5du\\anaconda3\\lib\\site-packages (from matplotlib->catboost) (10.2.0)\n",
      "Requirement already satisfied: pyparsing>=2.3.1 in c:\\users\\ak5du\\anaconda3\\lib\\site-packages (from matplotlib->catboost) (2.4.7)\n",
      "Requirement already satisfied: tenacity>=6.2.0 in c:\\users\\ak5du\\anaconda3\\lib\\site-packages (from plotly->catboost) (8.2.2)\n",
      "Downloading catboost-1.2.7-cp311-cp311-win_amd64.whl (101.7 MB)\n",
      "   ---------------------------------------- 0.0/101.7 MB ? eta -:--:--\n",
      "   ---------------------------------------- 0.0/101.7 MB ? eta -:--:--\n",
      "   ---------------------------------------- 0.0/101.7 MB 435.7 kB/s eta 0:03:54\n",
      "   ---------------------------------------- 0.1/101.7 MB 558.5 kB/s eta 0:03:03\n",
      "   ---------------------------------------- 0.2/101.7 MB 1.4 MB/s eta 0:01:14\n",
      "   ---------------------------------------- 0.6/101.7 MB 2.9 MB/s eta 0:00:35\n",
      "    --------------------------------------- 1.3/101.7 MB 5.3 MB/s eta 0:00:19\n",
      "   - -------------------------------------- 2.6/101.7 MB 8.6 MB/s eta 0:00:12\n",
      "   - -------------------------------------- 3.5/101.7 MB 10.6 MB/s eta 0:00:10\n",
      "   - -------------------------------------- 4.6/101.7 MB 12.2 MB/s eta 0:00:08\n",
      "   -- ------------------------------------- 5.4/101.7 MB 12.8 MB/s eta 0:00:08\n",
      "   -- ------------------------------------- 6.8/101.7 MB 14.5 MB/s eta 0:00:07\n",
      "   --- ------------------------------------ 8.1/101.7 MB 15.6 MB/s eta 0:00:07\n",
      "   --- ------------------------------------ 8.9/101.7 MB 15.8 MB/s eta 0:00:06\n",
      "   --- ------------------------------------ 9.9/101.7 MB 16.2 MB/s eta 0:00:06\n",
      "   ---- ----------------------------------- 10.9/101.7 MB 23.4 MB/s eta 0:00:04\n",
      "   ---- ----------------------------------- 11.8/101.7 MB 23.4 MB/s eta 0:00:04\n",
      "   ----- ---------------------------------- 12.9/101.7 MB 22.6 MB/s eta 0:00:04\n",
      "   ----- ---------------------------------- 14.1/101.7 MB 23.4 MB/s eta 0:00:04\n",
      "   ----- ---------------------------------- 15.2/101.7 MB 23.4 MB/s eta 0:00:04\n",
      "   ------ --------------------------------- 16.3/101.7 MB 22.6 MB/s eta 0:00:04\n",
      "   ------ --------------------------------- 17.3/101.7 MB 22.6 MB/s eta 0:00:04\n",
      "   ------ --------------------------------- 17.6/101.7 MB 21.1 MB/s eta 0:00:04\n",
      "   ------- -------------------------------- 18.5/101.7 MB 20.5 MB/s eta 0:00:05\n",
      "   ------- -------------------------------- 19.0/101.7 MB 20.5 MB/s eta 0:00:05\n",
      "   ------- -------------------------------- 19.8/101.7 MB 19.3 MB/s eta 0:00:05\n",
      "   -------- ------------------------------- 20.7/101.7 MB 19.3 MB/s eta 0:00:05\n",
      "   -------- ------------------------------- 21.7/101.7 MB 18.7 MB/s eta 0:00:05\n",
      "   -------- ------------------------------- 22.5/101.7 MB 19.9 MB/s eta 0:00:04\n",
      "   --------- ------------------------------ 23.6/101.7 MB 18.7 MB/s eta 0:00:05\n",
      "   --------- ------------------------------ 23.9/101.7 MB 17.7 MB/s eta 0:00:05\n",
      "   ---------- ----------------------------- 25.6/101.7 MB 19.3 MB/s eta 0:00:04\n",
      "   ---------- ----------------------------- 25.7/101.7 MB 17.7 MB/s eta 0:00:05\n",
      "   ---------- ----------------------------- 27.2/101.7 MB 18.2 MB/s eta 0:00:05\n",
      "   ----------- ---------------------------- 28.1/101.7 MB 19.3 MB/s eta 0:00:04\n",
      "   ----------- ---------------------------- 28.4/101.7 MB 18.2 MB/s eta 0:00:05\n",
      "   ----------- ---------------------------- 28.7/101.7 MB 17.2 MB/s eta 0:00:05\n",
      "   ----------- ---------------------------- 29.9/101.7 MB 18.7 MB/s eta 0:00:04\n",
      "   ----------- ---------------------------- 30.4/101.7 MB 18.2 MB/s eta 0:00:04\n",
      "   ----------- ---------------------------- 30.5/101.7 MB 16.8 MB/s eta 0:00:05\n",
      "   ------------ --------------------------- 31.7/101.7 MB 16.8 MB/s eta 0:00:05\n",
      "   ------------ --------------------------- 32.3/101.7 MB 16.8 MB/s eta 0:00:05\n",
      "   ------------ --------------------------- 32.8/101.7 MB 16.0 MB/s eta 0:00:05\n",
      "   ------------- -------------------------- 33.2/101.7 MB 15.2 MB/s eta 0:00:05\n",
      "   ------------- -------------------------- 33.6/101.7 MB 14.6 MB/s eta 0:00:05\n",
      "   ------------- -------------------------- 33.7/101.7 MB 13.9 MB/s eta 0:00:05\n",
      "   ------------- -------------------------- 34.0/101.7 MB 13.9 MB/s eta 0:00:05\n",
      "   ------------- -------------------------- 34.0/101.7 MB 13.9 MB/s eta 0:00:05\n",
      "   ------------- -------------------------- 34.3/101.7 MB 12.6 MB/s eta 0:00:06\n",
      "   ------------- -------------------------- 34.4/101.7 MB 11.9 MB/s eta 0:00:06\n",
      "   ------------- -------------------------- 34.6/101.7 MB 11.3 MB/s eta 0:00:06\n",
      "   ------------- -------------------------- 34.7/101.7 MB 10.9 MB/s eta 0:00:07\n",
      "   ------------- -------------------------- 34.9/101.7 MB 10.2 MB/s eta 0:00:07\n",
      "   ------------- -------------------------- 35.1/101.7 MB 9.8 MB/s eta 0:00:07\n",
      "   ------------- -------------------------- 35.3/101.7 MB 9.4 MB/s eta 0:00:08\n",
      "   ------------- -------------------------- 35.4/101.7 MB 9.1 MB/s eta 0:00:08\n",
      "   ------------- -------------------------- 35.5/101.7 MB 8.7 MB/s eta 0:00:08\n",
      "   -------------- ------------------------- 35.7/101.7 MB 8.5 MB/s eta 0:00:08\n",
      "   -------------- ------------------------- 35.8/101.7 MB 8.3 MB/s eta 0:00:08\n",
      "   -------------- ------------------------- 36.0/101.7 MB 8.3 MB/s eta 0:00:08\n",
      "   -------------- ------------------------- 36.1/101.7 MB 8.0 MB/s eta 0:00:09\n",
      "   -------------- ------------------------- 36.3/101.7 MB 7.7 MB/s eta 0:00:09\n",
      "   -------------- ------------------------- 36.4/101.7 MB 7.4 MB/s eta 0:00:09\n",
      "   -------------- ------------------------- 36.4/101.7 MB 7.3 MB/s eta 0:00:09\n",
      "   -------------- ------------------------- 36.5/101.7 MB 7.0 MB/s eta 0:00:10\n",
      "   -------------- ------------------------- 36.6/101.7 MB 6.7 MB/s eta 0:00:10\n",
      "   -------------- ------------------------- 36.7/101.7 MB 6.5 MB/s eta 0:00:10\n",
      "   -------------- ------------------------- 36.8/101.7 MB 6.4 MB/s eta 0:00:11\n",
      "   -------------- ------------------------- 36.9/101.7 MB 6.2 MB/s eta 0:00:11\n",
      "   -------------- ------------------------- 37.0/101.7 MB 6.1 MB/s eta 0:00:11\n",
      "   -------------- ------------------------- 37.2/101.7 MB 6.0 MB/s eta 0:00:11\n",
      "   -------------- ------------------------- 37.3/101.7 MB 5.8 MB/s eta 0:00:12\n",
      "   -------------- ------------------------- 37.4/101.7 MB 5.7 MB/s eta 0:00:12\n",
      "   -------------- ------------------------- 37.6/101.7 MB 5.6 MB/s eta 0:00:12\n",
      "   -------------- ------------------------- 37.7/101.7 MB 5.5 MB/s eta 0:00:12\n",
      "   -------------- ------------------------- 37.8/101.7 MB 5.4 MB/s eta 0:00:12\n",
      "   -------------- ------------------------- 37.9/101.7 MB 5.3 MB/s eta 0:00:13\n",
      "   -------------- ------------------------- 38.1/101.7 MB 5.2 MB/s eta 0:00:13\n",
      "   --------------- ------------------------ 38.3/101.7 MB 5.0 MB/s eta 0:00:13\n",
      "   --------------- ------------------------ 38.4/101.7 MB 5.0 MB/s eta 0:00:13\n",
      "   --------------- ------------------------ 38.6/101.7 MB 5.0 MB/s eta 0:00:13\n",
      "   --------------- ------------------------ 38.7/101.7 MB 5.0 MB/s eta 0:00:13\n",
      "   --------------- ------------------------ 38.9/101.7 MB 4.8 MB/s eta 0:00:13\n",
      "   --------------- ------------------------ 39.1/101.7 MB 4.7 MB/s eta 0:00:14\n",
      "   --------------- ------------------------ 39.2/101.7 MB 4.7 MB/s eta 0:00:14\n",
      "   --------------- ------------------------ 39.4/101.7 MB 4.6 MB/s eta 0:00:14\n",
      "   --------------- ------------------------ 39.6/101.7 MB 4.5 MB/s eta 0:00:14\n",
      "   --------------- ------------------------ 39.7/101.7 MB 4.4 MB/s eta 0:00:15\n",
      "   --------------- ------------------------ 39.9/101.7 MB 4.3 MB/s eta 0:00:15\n",
      "   --------------- ------------------------ 40.1/101.7 MB 4.3 MB/s eta 0:00:15\n",
      "   --------------- ------------------------ 40.3/101.7 MB 4.3 MB/s eta 0:00:15\n",
      "   --------------- ------------------------ 40.5/101.7 MB 4.1 MB/s eta 0:00:15\n",
      "   ---------------- ----------------------- 40.7/101.7 MB 4.2 MB/s eta 0:00:15\n",
      "   ---------------- ----------------------- 40.9/101.7 MB 4.2 MB/s eta 0:00:15\n",
      "   ---------------- ----------------------- 41.1/101.7 MB 4.1 MB/s eta 0:00:15\n",
      "   ---------------- ----------------------- 41.3/101.7 MB 4.0 MB/s eta 0:00:16\n",
      "   ---------------- ----------------------- 41.5/101.7 MB 3.9 MB/s eta 0:00:16\n",
      "   ---------------- ----------------------- 41.7/101.7 MB 3.9 MB/s eta 0:00:16\n",
      "   ---------------- ----------------------- 41.9/101.7 MB 3.9 MB/s eta 0:00:16\n",
      "   ---------------- ----------------------- 42.1/101.7 MB 3.8 MB/s eta 0:00:16\n",
      "   ---------------- ----------------------- 42.3/101.7 MB 3.8 MB/s eta 0:00:16\n",
      "   ---------------- ----------------------- 42.5/101.7 MB 3.7 MB/s eta 0:00:17\n",
      "   ---------------- ----------------------- 42.8/101.7 MB 3.7 MB/s eta 0:00:16\n",
      "   ---------------- ----------------------- 43.0/101.7 MB 3.7 MB/s eta 0:00:17\n",
      "   ----------------- ---------------------- 43.2/101.7 MB 3.6 MB/s eta 0:00:17\n",
      "   ----------------- ---------------------- 43.5/101.7 MB 3.6 MB/s eta 0:00:17\n",
      "   ----------------- ---------------------- 43.8/101.7 MB 3.6 MB/s eta 0:00:17\n",
      "   ----------------- ---------------------- 44.0/101.7 MB 3.6 MB/s eta 0:00:17\n",
      "   ----------------- ---------------------- 44.2/101.7 MB 3.6 MB/s eta 0:00:17\n",
      "   ----------------- ---------------------- 44.5/101.7 MB 3.7 MB/s eta 0:00:16\n",
      "   ----------------- ---------------------- 44.8/101.7 MB 3.7 MB/s eta 0:00:16\n",
      "   ----------------- ---------------------- 45.0/101.7 MB 3.7 MB/s eta 0:00:16\n",
      "   ----------------- ---------------------- 45.2/101.7 MB 3.7 MB/s eta 0:00:16\n",
      "   ----------------- ---------------------- 45.4/101.7 MB 3.8 MB/s eta 0:00:15\n",
      "   ----------------- ---------------------- 45.7/101.7 MB 3.8 MB/s eta 0:00:15\n",
      "   ------------------ --------------------- 45.9/101.7 MB 3.9 MB/s eta 0:00:15\n",
      "   ------------------ --------------------- 46.1/101.7 MB 3.9 MB/s eta 0:00:15\n",
      "   ------------------ --------------------- 46.4/101.7 MB 3.9 MB/s eta 0:00:15\n",
      "   ------------------ --------------------- 46.7/101.7 MB 4.0 MB/s eta 0:00:14\n",
      "   ------------------ --------------------- 47.0/101.7 MB 4.2 MB/s eta 0:00:14\n",
      "   ------------------ --------------------- 47.2/101.7 MB 4.3 MB/s eta 0:00:13\n",
      "   ------------------ --------------------- 47.5/101.7 MB 4.5 MB/s eta 0:00:13\n",
      "   ------------------ --------------------- 47.8/101.7 MB 4.5 MB/s eta 0:00:12\n",
      "   ------------------ --------------------- 48.1/101.7 MB 4.6 MB/s eta 0:00:12\n",
      "   ------------------ --------------------- 48.3/101.7 MB 4.7 MB/s eta 0:00:12\n",
      "   ------------------- -------------------- 48.6/101.7 MB 4.8 MB/s eta 0:00:12\n",
      "   ------------------- -------------------- 48.8/101.7 MB 4.8 MB/s eta 0:00:11\n",
      "   ------------------- -------------------- 49.1/101.7 MB 4.9 MB/s eta 0:00:11\n",
      "   ------------------- -------------------- 49.4/101.7 MB 5.0 MB/s eta 0:00:11\n",
      "   ------------------- -------------------- 49.7/101.7 MB 5.1 MB/s eta 0:00:11\n",
      "   ------------------- -------------------- 50.0/101.7 MB 5.2 MB/s eta 0:00:11\n",
      "   ------------------- -------------------- 50.2/101.7 MB 5.2 MB/s eta 0:00:10\n",
      "   ------------------- -------------------- 50.5/101.7 MB 5.2 MB/s eta 0:00:10\n",
      "   ------------------- -------------------- 50.8/101.7 MB 5.3 MB/s eta 0:00:10\n",
      "   -------------------- ------------------- 51.1/101.7 MB 5.4 MB/s eta 0:00:10\n",
      "   -------------------- ------------------- 51.4/101.7 MB 5.5 MB/s eta 0:00:10\n",
      "   -------------------- ------------------- 51.7/101.7 MB 5.5 MB/s eta 0:00:10\n",
      "   -------------------- ------------------- 52.0/101.7 MB 5.7 MB/s eta 0:00:09\n",
      "   -------------------- ------------------- 52.4/101.7 MB 5.7 MB/s eta 0:00:09\n",
      "   -------------------- ------------------- 52.7/101.7 MB 5.8 MB/s eta 0:00:09\n",
      "   -------------------- ------------------- 52.9/101.7 MB 5.8 MB/s eta 0:00:09\n",
      "   -------------------- ------------------- 53.2/101.7 MB 5.8 MB/s eta 0:00:09\n",
      "   --------------------- ------------------ 53.4/101.7 MB 5.8 MB/s eta 0:00:09\n",
      "   --------------------- ------------------ 53.7/101.7 MB 5.8 MB/s eta 0:00:09\n",
      "   --------------------- ------------------ 54.0/101.7 MB 5.8 MB/s eta 0:00:09\n",
      "   --------------------- ------------------ 54.3/101.7 MB 6.0 MB/s eta 0:00:08\n",
      "   --------------------- ------------------ 54.7/101.7 MB 6.0 MB/s eta 0:00:08\n",
      "   --------------------- ------------------ 54.9/101.7 MB 6.0 MB/s eta 0:00:08\n",
      "   --------------------- ------------------ 55.3/101.7 MB 6.1 MB/s eta 0:00:08\n",
      "   --------------------- ------------------ 55.6/101.7 MB 6.2 MB/s eta 0:00:08\n",
      "   ---------------------- ----------------- 56.0/101.7 MB 6.2 MB/s eta 0:00:08\n",
      "   ---------------------- ----------------- 56.4/101.7 MB 6.4 MB/s eta 0:00:08\n",
      "   ---------------------- ----------------- 56.7/101.7 MB 6.4 MB/s eta 0:00:08\n",
      "   ---------------------- ----------------- 57.1/101.7 MB 6.5 MB/s eta 0:00:07\n",
      "   ---------------------- ----------------- 57.4/101.7 MB 6.6 MB/s eta 0:00:07\n",
      "   ---------------------- ----------------- 57.9/101.7 MB 6.7 MB/s eta 0:00:07\n",
      "   ---------------------- ----------------- 58.3/101.7 MB 6.7 MB/s eta 0:00:07\n",
      "   ----------------------- ---------------- 58.7/101.7 MB 6.9 MB/s eta 0:00:07\n",
      "   ----------------------- ---------------- 59.1/101.7 MB 7.0 MB/s eta 0:00:07\n",
      "   ----------------------- ---------------- 59.5/101.7 MB 7.0 MB/s eta 0:00:07\n",
      "   ----------------------- ---------------- 59.7/101.7 MB 7.0 MB/s eta 0:00:06\n",
      "   ----------------------- ---------------- 60.2/101.7 MB 7.1 MB/s eta 0:00:06\n",
      "   ----------------------- ---------------- 60.5/101.7 MB 7.3 MB/s eta 0:00:06\n",
      "   ----------------------- ---------------- 60.7/101.7 MB 7.3 MB/s eta 0:00:06\n",
      "   ------------------------ --------------- 61.2/101.7 MB 7.4 MB/s eta 0:00:06\n",
      "   ------------------------ --------------- 61.6/101.7 MB 7.4 MB/s eta 0:00:06\n",
      "   ------------------------ --------------- 62.0/101.7 MB 7.5 MB/s eta 0:00:06\n",
      "   ------------------------ --------------- 62.4/101.7 MB 7.5 MB/s eta 0:00:06\n",
      "   ------------------------ --------------- 62.9/101.7 MB 7.7 MB/s eta 0:00:06\n",
      "   ------------------------ --------------- 63.2/101.7 MB 7.8 MB/s eta 0:00:05\n",
      "   ------------------------- -------------- 63.7/101.7 MB 8.0 MB/s eta 0:00:05\n",
      "   ------------------------- -------------- 64.1/101.7 MB 8.2 MB/s eta 0:00:05\n",
      "   ------------------------- -------------- 64.6/101.7 MB 8.3 MB/s eta 0:00:05\n",
      "   ------------------------- -------------- 64.9/101.7 MB 8.3 MB/s eta 0:00:05\n",
      "   ------------------------- -------------- 65.3/101.7 MB 8.4 MB/s eta 0:00:05\n",
      "   ------------------------- -------------- 65.7/101.7 MB 8.4 MB/s eta 0:00:05\n",
      "   -------------------------- ------------- 66.2/101.7 MB 8.5 MB/s eta 0:00:05\n",
      "   -------------------------- ------------- 66.4/101.7 MB 8.4 MB/s eta 0:00:05\n",
      "   -------------------------- ------------- 66.8/101.7 MB 8.5 MB/s eta 0:00:05\n",
      "   -------------------------- ------------- 67.3/101.7 MB 8.5 MB/s eta 0:00:05\n",
      "   -------------------------- ------------- 67.7/101.7 MB 8.5 MB/s eta 0:00:04\n",
      "   -------------------------- ------------- 68.3/101.7 MB 8.6 MB/s eta 0:00:04\n",
      "   -------------------------- ------------- 68.7/101.7 MB 8.7 MB/s eta 0:00:04\n",
      "   --------------------------- ------------ 69.0/101.7 MB 8.5 MB/s eta 0:00:04\n",
      "   --------------------------- ------------ 69.4/101.7 MB 8.7 MB/s eta 0:00:04\n",
      "   --------------------------- ------------ 69.7/101.7 MB 8.6 MB/s eta 0:00:04\n",
      "   --------------------------- ------------ 70.2/101.7 MB 8.7 MB/s eta 0:00:04\n",
      "   --------------------------- ------------ 70.6/101.7 MB 8.7 MB/s eta 0:00:04\n",
      "   --------------------------- ------------ 71.1/101.7 MB 9.0 MB/s eta 0:00:04\n",
      "   ---------------------------- ----------- 71.5/101.7 MB 9.0 MB/s eta 0:00:04\n",
      "   ---------------------------- ----------- 72.0/101.7 MB 9.1 MB/s eta 0:00:04\n",
      "   ---------------------------- ----------- 72.5/101.7 MB 9.2 MB/s eta 0:00:04\n",
      "   ---------------------------- ----------- 72.9/101.7 MB 9.1 MB/s eta 0:00:04\n",
      "   ---------------------------- ----------- 73.4/101.7 MB 9.2 MB/s eta 0:00:04\n",
      "   ----------------------------- ---------- 73.9/101.7 MB 9.2 MB/s eta 0:00:04\n",
      "   ----------------------------- ---------- 74.2/101.7 MB 9.1 MB/s eta 0:00:04\n",
      "   ----------------------------- ---------- 74.6/101.7 MB 9.1 MB/s eta 0:00:03\n",
      "   ----------------------------- ---------- 74.9/101.7 MB 9.0 MB/s eta 0:00:03\n",
      "   ----------------------------- ---------- 75.4/101.7 MB 9.1 MB/s eta 0:00:03\n",
      "   ----------------------------- ---------- 75.9/101.7 MB 9.2 MB/s eta 0:00:03\n",
      "   ------------------------------ --------- 76.3/101.7 MB 9.2 MB/s eta 0:00:03\n",
      "   ------------------------------ --------- 76.7/101.7 MB 9.5 MB/s eta 0:00:03\n",
      "   ------------------------------ --------- 77.2/101.7 MB 9.4 MB/s eta 0:00:03\n",
      "   ------------------------------ --------- 77.4/101.7 MB 9.2 MB/s eta 0:00:03\n",
      "   ------------------------------ --------- 77.8/101.7 MB 9.2 MB/s eta 0:00:03\n",
      "   ------------------------------ --------- 78.0/101.7 MB 9.1 MB/s eta 0:00:03\n",
      "   ------------------------------ --------- 78.5/101.7 MB 9.0 MB/s eta 0:00:03\n",
      "   ------------------------------- -------- 79.0/101.7 MB 9.1 MB/s eta 0:00:03\n",
      "   ------------------------------- -------- 79.5/101.7 MB 9.2 MB/s eta 0:00:03\n",
      "   ------------------------------- -------- 80.2/101.7 MB 9.5 MB/s eta 0:00:03\n",
      "   ------------------------------- -------- 80.7/101.7 MB 9.6 MB/s eta 0:00:03\n",
      "   ------------------------------- -------- 81.1/101.7 MB 9.6 MB/s eta 0:00:03\n",
      "   -------------------------------- ------- 81.6/101.7 MB 9.5 MB/s eta 0:00:03\n",
      "   -------------------------------- ------- 82.1/101.7 MB 9.6 MB/s eta 0:00:03\n",
      "   -------------------------------- ------- 82.7/101.7 MB 9.6 MB/s eta 0:00:02\n",
      "   -------------------------------- ------- 83.0/101.7 MB 9.6 MB/s eta 0:00:02\n",
      "   -------------------------------- ------- 83.3/101.7 MB 9.4 MB/s eta 0:00:02\n",
      "   -------------------------------- ------- 83.8/101.7 MB 9.5 MB/s eta 0:00:02\n",
      "   --------------------------------- ------ 84.2/101.7 MB 9.5 MB/s eta 0:00:02\n",
      "   --------------------------------- ------ 84.6/101.7 MB 9.4 MB/s eta 0:00:02\n",
      "   --------------------------------- ------ 84.9/101.7 MB 9.4 MB/s eta 0:00:02\n",
      "   --------------------------------- ------ 85.5/101.7 MB 9.5 MB/s eta 0:00:02\n",
      "   --------------------------------- ------ 85.9/101.7 MB 9.6 MB/s eta 0:00:02\n",
      "   --------------------------------- ------ 86.3/101.7 MB 9.4 MB/s eta 0:00:02\n",
      "   ---------------------------------- ----- 86.7/101.7 MB 9.5 MB/s eta 0:00:02\n",
      "   ---------------------------------- ----- 87.3/101.7 MB 9.6 MB/s eta 0:00:02\n",
      "   ---------------------------------- ----- 87.7/101.7 MB 9.8 MB/s eta 0:00:02\n",
      "   ---------------------------------- ----- 88.3/101.7 MB 10.2 MB/s eta 0:00:02\n",
      "   ---------------------------------- ----- 88.8/101.7 MB 10.2 MB/s eta 0:00:02\n",
      "   ----------------------------------- ---- 89.3/101.7 MB 10.1 MB/s eta 0:00:02\n",
      "   ----------------------------------- ---- 89.8/101.7 MB 10.1 MB/s eta 0:00:02\n",
      "   ----------------------------------- ---- 90.3/101.7 MB 10.1 MB/s eta 0:00:02\n",
      "   ----------------------------------- ---- 90.8/101.7 MB 10.2 MB/s eta 0:00:02\n",
      "   ----------------------------------- ---- 91.3/101.7 MB 9.9 MB/s eta 0:00:02\n",
      "   ------------------------------------ --- 91.9/101.7 MB 10.1 MB/s eta 0:00:01\n",
      "   ------------------------------------ --- 92.3/101.7 MB 10.2 MB/s eta 0:00:01\n",
      "   ------------------------------------ --- 92.9/101.7 MB 10.2 MB/s eta 0:00:01\n",
      "   ------------------------------------ --- 93.4/101.7 MB 10.4 MB/s eta 0:00:01\n",
      "   ------------------------------------ --- 94.0/101.7 MB 10.6 MB/s eta 0:00:01\n",
      "   ------------------------------------- -- 94.6/101.7 MB 10.9 MB/s eta 0:00:01\n",
      "   ------------------------------------- -- 95.1/101.7 MB 11.1 MB/s eta 0:00:01\n",
      "   ------------------------------------- -- 95.5/101.7 MB 10.9 MB/s eta 0:00:01\n",
      "   ------------------------------------- -- 95.5/101.7 MB 10.9 MB/s eta 0:00:01\n",
      "   ------------------------------------- -- 95.5/101.7 MB 10.9 MB/s eta 0:00:01\n",
      "   -------------------------------------- - 97.0/101.7 MB 11.3 MB/s eta 0:00:01\n",
      "   -------------------------------------- - 97.5/101.7 MB 11.3 MB/s eta 0:00:01\n",
      "   -------------------------------------- - 97.9/101.7 MB 11.3 MB/s eta 0:00:01\n",
      "   -------------------------------------- - 98.4/101.7 MB 10.9 MB/s eta 0:00:01\n",
      "   -------------------------------------- - 98.9/101.7 MB 10.9 MB/s eta 0:00:01\n",
      "   ---------------------------------------  99.3/101.7 MB 10.9 MB/s eta 0:00:01\n",
      "   ---------------------------------------  99.9/101.7 MB 11.1 MB/s eta 0:00:01\n",
      "   --------------------------------------  100.5/101.7 MB 10.9 MB/s eta 0:00:01\n",
      "   --------------------------------------  100.9/101.7 MB 10.7 MB/s eta 0:00:01\n",
      "   --------------------------------------  101.4/101.7 MB 10.9 MB/s eta 0:00:01\n",
      "   --------------------------------------  101.7/101.7 MB 10.9 MB/s eta 0:00:01\n",
      "   --------------------------------------  101.7/101.7 MB 10.9 MB/s eta 0:00:01\n",
      "   --------------------------------------  101.7/101.7 MB 10.9 MB/s eta 0:00:01\n",
      "   --------------------------------------  101.7/101.7 MB 10.9 MB/s eta 0:00:01\n",
      "   --------------------------------------  101.7/101.7 MB 10.9 MB/s eta 0:00:01\n",
      "   ---------------------------------------- 101.7/101.7 MB 9.0 MB/s eta 0:00:00\n",
      "Installing collected packages: catboost\n",
      "Successfully installed catboost-1.2.7\n"
     ]
    }
   ],
   "source": [
    "!pip install catboost"
   ]
  },
  {
   "cell_type": "code",
   "execution_count": 23,
   "metadata": {
    "ExecuteTime": {
     "end_time": "2019-04-22T16:39:09.312682Z",
     "start_time": "2019-04-22T16:39:09.309208Z"
    },
    "_kg_hide-input": true,
    "colab": {},
    "colab_type": "code",
    "id": "l9nfFTyj-KYY"
   },
   "outputs": [],
   "source": [
    "import warnings\n",
    "warnings.filterwarnings('ignore')\n",
    "from sklearn.preprocessing import LabelEncoder\n",
    "import numpy as np\n",
    "import pandas as pd\n",
    "import lightgbm\n",
    "from bayes_opt import BayesianOptimization\n",
    "from catboost import CatBoostClassifier, cv, Pool"
   ]
  },
  {
   "cell_type": "code",
   "execution_count": 25,
   "metadata": {
    "colab": {
     "base_uri": "https://localhost:8080/",
     "height": 85
    },
    "colab_type": "code",
    "id": "D16Dquw1AAK0",
    "outputId": "44167587-f22e-4bf5-a816-e2bcfdc6c4ee"
   },
   "outputs": [
    {
     "data": {
      "text/plain": [
       "[' Capstone 2_Preprocessing and Training Data Development AKD Complete.ipynb',\n",
       " '.anaconda',\n",
       " '.bash_history',\n",
       " '.conda',\n",
       " '.condarc',\n",
       " '.continuum',\n",
       " '.gitconfig',\n",
       " '.ipynb_checkpoints',\n",
       " '.ipython',\n",
       " '.jupyter',\n",
       " '.matplotlib',\n",
       " '.ms-ad',\n",
       " '.spyder-py3',\n",
       " '.virtual_documents',\n",
       " '.vscode',\n",
       " '03.10-Working-With-Strings.ipynb',\n",
       " '20170107-061401-recipeitems.json.gz',\n",
       " '20170107-061401-recipeitems_small_sample.json',\n",
       " '3D Objects',\n",
       " 'AKD Unit 4 Challenge - Tier 1 from David.ipynb',\n",
       " 'anaconda3',\n",
       " 'APIs and JSONs.ipynb',\n",
       " 'api_data_wrangling_mini_project.ipynb',\n",
       " 'AppData',\n",
       " 'AppleStore.csv',\n",
       " 'appleStore_description.csv',\n",
       " 'Application Data',\n",
       " 'Bayesian_optimization_case_study.ipynb',\n",
       " 'boston.csv',\n",
       " 'BullseyeCoverageError.txt',\n",
       " 'cleaned_data.csv',\n",
       " 'Clustering Case Study - Customer Segmentation with K-Means - Tier 3 AKD Complete.ipynb',\n",
       " 'Contacts',\n",
       " 'Cookies',\n",
       " 'Cosine_Similarity_Case_Study AKD Complete.ipynb',\n",
       " 'Counting.ipynb',\n",
       " 'Creating a Database Engine.ipynb',\n",
       " 'data',\n",
       " 'Data Type Constraints.ipynb',\n",
       " 'Data Visualization with Matplotlib.ipynb',\n",
       " 'Data Wrangling.ipynb',\n",
       " 'Dataclasses.ipynb',\n",
       " 'DataFrames.ipynb',\n",
       " 'Dates and Times.ipynb',\n",
       " 'diabetes.csv',\n",
       " 'distance_dataset.csv',\n",
       " 'distance_dataset_cosine.csv',\n",
       " 'Documents',\n",
       " 'Downloads',\n",
       " 'Dropbox',\n",
       " 'EDA.ipynb',\n",
       " 'Euclidean_and_Manhattan_Distances_Case_Study.ipynb',\n",
       " 'Exceptions.ipynb',\n",
       " 'Exploratory Data Analysis.ipynb',\n",
       " 'Fake News Detection.ipynb',\n",
       " 'Fake.csv',\n",
       " 'Favorites',\n",
       " 'Feature Engineering with FeatureTools.ipynb',\n",
       " 'Feature Engineering.ipynb',\n",
       " 'flight_delays_test.csv',\n",
       " 'flight_delays_train.csv',\n",
       " 'Frequentist Inference Case Study - Part A  AKD 09052024.ipynb',\n",
       " 'Frequentist Inference Case Study - Part B AKD 09052024.ipynb',\n",
       " 'Generator Expressions.ipynb',\n",
       " 'googleplaystore.csv',\n",
       " 'googleplaystore_user_reviews.csv',\n",
       " 'google_stock_price.csv',\n",
       " 'Gradient Boosting Case Study AKD Complete.ipynb',\n",
       " 'GridSearchKNN_Case_Study.ipynb',\n",
       " 'Guided Capstone',\n",
       " 'heart.xlsx',\n",
       " 'Importing Data.ipynb',\n",
       " 'insurance2.csv',\n",
       " 'IntelGraphicsProfiles',\n",
       " 'Iterators.ipynb',\n",
       " 'Lambda.ipynb',\n",
       " 'LinkedIn Statistics.ipynb',\n",
       " 'LinkedIn Statistics_2.ipynb',\n",
       " 'Links',\n",
       " 'List Comprehensions.ipynb',\n",
       " 'Local Settings',\n",
       " 'Logistic Regression Advanced Case Study AKD complete.ipynb',\n",
       " 'meteorites.ipynb',\n",
       " 'Methods.ipynb',\n",
       " 'Mini_Project_Linear_Regression AKD Complete.ipynb',\n",
       " 'Monalco Problem Statement Angela Dunston.pptx',\n",
       " 'Music',\n",
       " 'My Documents',\n",
       " 'Namedtuple.ipynb',\n",
       " 'NASDAQ_API_KEY.env',\n",
       " 'NASDAQ_API_KEY.ipynb',\n",
       " 'Nested Function Calls.ipynb',\n",
       " 'NetHood',\n",
       " 'NTUSER.DAT',\n",
       " 'ntuser.dat.LOG1',\n",
       " 'ntuser.dat.LOG2',\n",
       " 'NTUSER.DAT{b94b1ca5-dd34-11ed-839a-8f1d0b787554}.TM.blf',\n",
       " 'NTUSER.DAT{b94b1ca5-dd34-11ed-839a-8f1d0b787554}.TMContainer00000000000000000001.regtrans-ms',\n",
       " 'NTUSER.DAT{b94b1ca5-dd34-11ed-839a-8f1d0b787554}.TMContainer00000000000000000002.regtrans-ms',\n",
       " 'ntuser.ini',\n",
       " 'Numerical Data.ipynb',\n",
       " 'Numpy.ipynb',\n",
       " 'OneDrive',\n",
       " 'Packages.ipynb',\n",
       " 'Pandas.ipynb',\n",
       " 'PatientInfo.csv',\n",
       " 'Plots.ipynb',\n",
       " 'PrintHood',\n",
       " 'RandomForest_casestudy_covid19 Complete 09272024.ipynb',\n",
       " 'Recent',\n",
       " 'Relational Databases.ipynb',\n",
       " 'rf_5trees.png',\n",
       " 'RRDinerCoffeeData.csv',\n",
       " 'Saved Games',\n",
       " 'Scope.ipynb',\n",
       " 'Seaborn.ipynb',\n",
       " 'Searches',\n",
       " 'SendTo',\n",
       " 'Sets.ipynb',\n",
       " 'Springboard Apps project - Tier 3 - AKD Complete.ipynb',\n",
       " 'Springboard Decision Tree Specialty Coffee Case Study - Tier 3 AKD Complete.ipynb',\n",
       " 'Springboard Regression Case Study - the Red Wine Dataset - Tier 3 AKD Complete.ipynb',\n",
       " 'SQL.ipynb',\n",
       " 'Start Menu',\n",
       " 'Statistical Inference.ipynb',\n",
       " 'Statistical Thinking.ipynb',\n",
       " 'Statistics.ipynb',\n",
       " 'Summary Statistics.ipynb',\n",
       " 'Supervised Learning with scikit-learn.ipynb',\n",
       " 'Templates',\n",
       " 'test.csv',\n",
       " 'Time Series Analysis in Python.ipynb',\n",
       " 'titanic.csv',\n",
       " 'train.csv',\n",
       " 'tree.dot',\n",
       " 'tree.png',\n",
       " 'True.csv',\n",
       " 'TSS 06112024.ipynb',\n",
       " 'Unit 4 Challenge - Tier 1.ipynb',\n",
       " 'Unit 4 Challenge - Tier 3 Complete-Copy1.ipynb',\n",
       " 'Unit 4 Challenge - Tier 3 Complete.ipynb',\n",
       " 'Unsupervised Learning.ipynb',\n",
       " 'Untitled.ipynb',\n",
       " 'Untitled1.ipynb',\n",
       " 'Untitled2.ipynb',\n",
       " 'Untitled3.ipynb',\n",
       " 'Untitled4.ipynb',\n",
       " 'Untitled5.ipynb',\n",
       " 'Untitled6.ipynb',\n",
       " 'Untitled7.ipynb',\n",
       " 'Untitled8.ipynb',\n",
       " 'User Defined Functions.ipynb',\n",
       " 'Using Dictionaries.ipynb',\n",
       " 'verticalweekend.png',\n",
       " 'Videos',\n",
       " 'WineKMC.xlsx',\n",
       " 'wineQualityReds.csv',\n",
       " 'World bank data.ipynb']"
      ]
     },
     "execution_count": 25,
     "metadata": {},
     "output_type": "execute_result"
    }
   ],
   "source": [
    "import os\n",
    "os.listdir()"
   ]
  },
  {
   "cell_type": "markdown",
   "metadata": {
    "ExecuteTime": {
     "end_time": "2019-04-22T14:48:15.929012Z",
     "start_time": "2019-04-22T14:48:15.926574Z"
    },
    "colab_type": "text",
    "id": "AkBt3yds-KYu"
   },
   "source": [
    "## How does Bayesian optimization work?"
   ]
  },
  {
   "cell_type": "markdown",
   "metadata": {
    "colab_type": "text",
    "id": "E1kyBCUs-KYv"
   },
   "source": [
    "Bayesian optimization works by constructing a posterior distribution of functions (Gaussian process) that best describes the function you want to optimize. As the number of observations grows, the posterior distribution improves, and the algorithm becomes more certain of which regions in parameter space are worth exploring and which are not, as seen in the picture below."
   ]
  },
  {
   "cell_type": "markdown",
   "metadata": {
    "colab_type": "text",
    "id": "gAdHF72R-KYw"
   },
   "source": [
    "<img src=\"https://github.com/fmfn/BayesianOptimization/blob/master/examples/bo_example.png?raw=true\" />\n",
    "As you iterate over and over, the algorithm balances its needs of exploration and exploitation while taking into account what it knows about the target function. At each step, a Gaussian Process is fitted to the known samples (points previously explored), and the posterior distribution, combined with an exploration strategy (such as UCB — aka Upper Confidence Bound), or EI (Expected Improvement). This process is used to determine the next point that should be explored (see the gif below).\n",
    "<img src=\"https://github.com/fmfn/BayesianOptimization/raw/master/examples/bayesian_optimization.gif\" />"
   ]
  },
  {
   "cell_type": "markdown",
   "metadata": {
    "colab_type": "text",
    "id": "RTP8KUlLoYzu"
   },
   "source": [
    "## Let's look at a simple example"
   ]
  },
  {
   "cell_type": "markdown",
   "metadata": {
    "colab_type": "text",
    "id": "crpPqKdC-KYx"
   },
   "source": [
    "The first step is to create an optimizer. It uses two items:\n",
    "* function to optimize\n",
    "* bounds of parameters\n",
    "\n",
    "The function is the procedure that counts metrics of our model quality. The important thing is that our optimization will maximize the value on function. Smaller metrics are best. Hint: don't forget to use negative metric values."
   ]
  },
  {
   "cell_type": "markdown",
   "metadata": {
    "colab_type": "text",
    "id": "e09ciF8gpTfr"
   },
   "source": [
    "Here we define our simple function we want to optimize."
   ]
  },
  {
   "cell_type": "code",
   "execution_count": 27,
   "metadata": {
    "colab": {},
    "colab_type": "code",
    "id": "ofwvnfEwo5mG"
   },
   "outputs": [],
   "source": [
    "def simple_func(a, b):\n",
    "    return a + b"
   ]
  },
  {
   "cell_type": "markdown",
   "metadata": {
    "colab_type": "text",
    "id": "XCGsdciCpeI3"
   },
   "source": [
    "Now, we define our bounds of the parameters to optimize, within the Bayesian optimizer."
   ]
  },
  {
   "cell_type": "code",
   "execution_count": 29,
   "metadata": {
    "colab": {},
    "colab_type": "code",
    "id": "4jLYW2qnpOFr"
   },
   "outputs": [],
   "source": [
    "optimizer = BayesianOptimization(\n",
    "    simple_func,\n",
    "    {'a': (1, 3),\n",
    "    'b': (4, 7)})"
   ]
  },
  {
   "cell_type": "markdown",
   "metadata": {
    "colab_type": "text",
    "id": "dg6LdYx8pq2T"
   },
   "source": [
    "These are the main parameters of this function:\n",
    "\n",
    "* **n_iter:** This is how many steps of Bayesian optimization you want to perform. The more steps, the more likely you are to find a good maximum.\n",
    "\n",
    "* **init_points:** This is how many steps of random exploration you want to perform. Random exploration can help by diversifying the exploration space."
   ]
  },
  {
   "cell_type": "markdown",
   "metadata": {
    "colab_type": "text",
    "id": "i-GKMJ1uqMYv"
   },
   "source": [
    "Let's run an example where we use the optimizer to find the best values to maximize the target value for a and b given the inputs of 3 and 2."
   ]
  },
  {
   "cell_type": "code",
   "execution_count": 31,
   "metadata": {
    "colab": {
     "base_uri": "https://localhost:8080/",
     "height": 153
    },
    "colab_type": "code",
    "id": "Oy44Ro7wqNat",
    "outputId": "9cc64d54-b1e6-46d1-dc29-4c0039a1c72d"
   },
   "outputs": [
    {
     "name": "stdout",
     "output_type": "stream",
     "text": [
      "|   iter    |  target   |     a     |     b     |\n",
      "-------------------------------------------------\n",
      "| \u001b[39m1        \u001b[39m | \u001b[39m8.231    \u001b[39m | \u001b[39m2.695    \u001b[39m | \u001b[39m5.537    \u001b[39m |\n",
      "| \u001b[39m2        \u001b[39m | \u001b[39m7.304    \u001b[39m | \u001b[39m2.888    \u001b[39m | \u001b[39m4.415    \u001b[39m |\n",
      "| \u001b[39m3        \u001b[39m | \u001b[39m6.224    \u001b[39m | \u001b[39m1.576    \u001b[39m | \u001b[39m4.648    \u001b[39m |\n",
      "| \u001b[39m4        \u001b[39m | \u001b[39m8.085    \u001b[39m | \u001b[39m2.75     \u001b[39m | \u001b[39m5.335    \u001b[39m |\n",
      "| \u001b[35m5        \u001b[39m | \u001b[35m9.831    \u001b[39m | \u001b[35m3.0      \u001b[39m | \u001b[35m6.831    \u001b[39m |\n",
      "=================================================\n"
     ]
    }
   ],
   "source": [
    "optimizer.maximize(3,2)"
   ]
  },
  {
   "cell_type": "markdown",
   "metadata": {
    "colab_type": "text",
    "id": "tyKFMF2Hq2Sx"
   },
   "source": [
    "Great, now let's print the best parameters and the associated maximized target."
   ]
  },
  {
   "cell_type": "code",
   "execution_count": 33,
   "metadata": {
    "colab": {
     "base_uri": "https://localhost:8080/",
     "height": 51
    },
    "colab_type": "code",
    "id": "_H6DixyfscV_",
    "outputId": "fd0c35d7-e30d-4d30-9ab2-12c0fa837971"
   },
   "outputs": [
    {
     "name": "stdout",
     "output_type": "stream",
     "text": [
      "{'a': 3.0, 'b': 6.8308653458231605}\n"
     ]
    },
    {
     "data": {
      "text/plain": [
       "9.83086534582316"
      ]
     },
     "execution_count": 33,
     "metadata": {},
     "output_type": "execute_result"
    }
   ],
   "source": [
    "print(optimizer.max['params']);optimizer.max['target']"
   ]
  },
  {
   "cell_type": "markdown",
   "metadata": {
    "colab_type": "text",
    "id": "tQ1T1V6Mspi4"
   },
   "source": [
    "## Test it on real data using the Light GBM"
   ]
  },
  {
   "cell_type": "markdown",
   "metadata": {
    "colab_type": "text",
    "id": "y_oGwREZkm4h"
   },
   "source": [
    "The dataset we will be working with is the famous flight departures dataset. Our modeling goal will be to predict if a flight departure is going to be delayed by 15 minutes based on the other attributes in our dataset. As part of this modeling exercise, we will use Bayesian hyperparameter optimization to identify the best parameters for our model."
   ]
  },
  {
   "cell_type": "markdown",
   "metadata": {
    "colab_type": "text",
    "id": "abYSagjQANDZ"
   },
   "source": [
    "**<font color='teal'> You can load the zipped csv files just as you would regular csv files using Pandas read_csv. In the next cell load the train and test data into two seperate dataframes. </font>**\n"
   ]
  },
  {
   "cell_type": "code",
   "execution_count": 35,
   "metadata": {
    "colab": {},
    "colab_type": "code",
    "id": "EWKBApVuAeJe"
   },
   "outputs": [],
   "source": [
    "train_df = pd.read_csv('flight_delays_train.csv')\n",
    "test_df = pd.read_csv('flight_delays_test.csv')"
   ]
  },
  {
   "cell_type": "markdown",
   "metadata": {
    "colab_type": "text",
    "id": "OapNcT9Eikis"
   },
   "source": [
    "**<font color='teal'> Print the top five rows of the train dataframe and review the columns in the data. </font>**"
   ]
  },
  {
   "cell_type": "code",
   "execution_count": 37,
   "metadata": {
    "colab": {
     "base_uri": "https://localhost:8080/",
     "height": 204
    },
    "colab_type": "code",
    "id": "__4cXZ8iiYaC",
    "outputId": "8718ad4b-8955-486c-9ae8-1dee6aa6c2fb"
   },
   "outputs": [
    {
     "data": {
      "text/html": [
       "<div>\n",
       "<style scoped>\n",
       "    .dataframe tbody tr th:only-of-type {\n",
       "        vertical-align: middle;\n",
       "    }\n",
       "\n",
       "    .dataframe tbody tr th {\n",
       "        vertical-align: top;\n",
       "    }\n",
       "\n",
       "    .dataframe thead th {\n",
       "        text-align: right;\n",
       "    }\n",
       "</style>\n",
       "<table border=\"1\" class=\"dataframe\">\n",
       "  <thead>\n",
       "    <tr style=\"text-align: right;\">\n",
       "      <th></th>\n",
       "      <th>Month</th>\n",
       "      <th>DayofMonth</th>\n",
       "      <th>DayOfWeek</th>\n",
       "      <th>DepTime</th>\n",
       "      <th>UniqueCarrier</th>\n",
       "      <th>Origin</th>\n",
       "      <th>Dest</th>\n",
       "      <th>Distance</th>\n",
       "      <th>dep_delayed_15min</th>\n",
       "    </tr>\n",
       "  </thead>\n",
       "  <tbody>\n",
       "    <tr>\n",
       "      <th>0</th>\n",
       "      <td>c-8</td>\n",
       "      <td>c-21</td>\n",
       "      <td>c-7</td>\n",
       "      <td>1934</td>\n",
       "      <td>AA</td>\n",
       "      <td>ATL</td>\n",
       "      <td>DFW</td>\n",
       "      <td>732</td>\n",
       "      <td>N</td>\n",
       "    </tr>\n",
       "    <tr>\n",
       "      <th>1</th>\n",
       "      <td>c-4</td>\n",
       "      <td>c-20</td>\n",
       "      <td>c-3</td>\n",
       "      <td>1548</td>\n",
       "      <td>US</td>\n",
       "      <td>PIT</td>\n",
       "      <td>MCO</td>\n",
       "      <td>834</td>\n",
       "      <td>N</td>\n",
       "    </tr>\n",
       "    <tr>\n",
       "      <th>2</th>\n",
       "      <td>c-9</td>\n",
       "      <td>c-2</td>\n",
       "      <td>c-5</td>\n",
       "      <td>1422</td>\n",
       "      <td>XE</td>\n",
       "      <td>RDU</td>\n",
       "      <td>CLE</td>\n",
       "      <td>416</td>\n",
       "      <td>N</td>\n",
       "    </tr>\n",
       "    <tr>\n",
       "      <th>3</th>\n",
       "      <td>c-11</td>\n",
       "      <td>c-25</td>\n",
       "      <td>c-6</td>\n",
       "      <td>1015</td>\n",
       "      <td>OO</td>\n",
       "      <td>DEN</td>\n",
       "      <td>MEM</td>\n",
       "      <td>872</td>\n",
       "      <td>N</td>\n",
       "    </tr>\n",
       "    <tr>\n",
       "      <th>4</th>\n",
       "      <td>c-10</td>\n",
       "      <td>c-7</td>\n",
       "      <td>c-6</td>\n",
       "      <td>1828</td>\n",
       "      <td>WN</td>\n",
       "      <td>MDW</td>\n",
       "      <td>OMA</td>\n",
       "      <td>423</td>\n",
       "      <td>Y</td>\n",
       "    </tr>\n",
       "  </tbody>\n",
       "</table>\n",
       "</div>"
      ],
      "text/plain": [
       "  Month DayofMonth DayOfWeek  DepTime UniqueCarrier Origin Dest  Distance  \\\n",
       "0   c-8       c-21       c-7     1934            AA    ATL  DFW       732   \n",
       "1   c-4       c-20       c-3     1548            US    PIT  MCO       834   \n",
       "2   c-9        c-2       c-5     1422            XE    RDU  CLE       416   \n",
       "3  c-11       c-25       c-6     1015            OO    DEN  MEM       872   \n",
       "4  c-10        c-7       c-6     1828            WN    MDW  OMA       423   \n",
       "\n",
       "  dep_delayed_15min  \n",
       "0                 N  \n",
       "1                 N  \n",
       "2                 N  \n",
       "3                 N  \n",
       "4                 Y  "
      ]
     },
     "execution_count": 37,
     "metadata": {},
     "output_type": "execute_result"
    }
   ],
   "source": [
    "train_df.head()"
   ]
  },
  {
   "cell_type": "markdown",
   "metadata": {
    "colab_type": "text",
    "id": "UxGBsPQhffgd"
   },
   "source": [
    "**<font color='teal'> Use the describe function to review the numeric columns in the train dataframe. </font>**"
   ]
  },
  {
   "cell_type": "code",
   "execution_count": 39,
   "metadata": {
    "colab": {
     "base_uri": "https://localhost:8080/",
     "height": 297
    },
    "colab_type": "code",
    "id": "_bRRKG3DAtae",
    "outputId": "7cfb9975-ec97-422c-abbd-98923a0b7aec"
   },
   "outputs": [
    {
     "data": {
      "text/html": [
       "<div>\n",
       "<style scoped>\n",
       "    .dataframe tbody tr th:only-of-type {\n",
       "        vertical-align: middle;\n",
       "    }\n",
       "\n",
       "    .dataframe tbody tr th {\n",
       "        vertical-align: top;\n",
       "    }\n",
       "\n",
       "    .dataframe thead th {\n",
       "        text-align: right;\n",
       "    }\n",
       "</style>\n",
       "<table border=\"1\" class=\"dataframe\">\n",
       "  <thead>\n",
       "    <tr style=\"text-align: right;\">\n",
       "      <th></th>\n",
       "      <th>DepTime</th>\n",
       "      <th>Distance</th>\n",
       "    </tr>\n",
       "  </thead>\n",
       "  <tbody>\n",
       "    <tr>\n",
       "      <th>count</th>\n",
       "      <td>100000.000000</td>\n",
       "      <td>100000.00000</td>\n",
       "    </tr>\n",
       "    <tr>\n",
       "      <th>mean</th>\n",
       "      <td>1341.523880</td>\n",
       "      <td>729.39716</td>\n",
       "    </tr>\n",
       "    <tr>\n",
       "      <th>std</th>\n",
       "      <td>476.378445</td>\n",
       "      <td>574.61686</td>\n",
       "    </tr>\n",
       "    <tr>\n",
       "      <th>min</th>\n",
       "      <td>1.000000</td>\n",
       "      <td>30.00000</td>\n",
       "    </tr>\n",
       "    <tr>\n",
       "      <th>25%</th>\n",
       "      <td>931.000000</td>\n",
       "      <td>317.00000</td>\n",
       "    </tr>\n",
       "    <tr>\n",
       "      <th>50%</th>\n",
       "      <td>1330.000000</td>\n",
       "      <td>575.00000</td>\n",
       "    </tr>\n",
       "    <tr>\n",
       "      <th>75%</th>\n",
       "      <td>1733.000000</td>\n",
       "      <td>957.00000</td>\n",
       "    </tr>\n",
       "    <tr>\n",
       "      <th>max</th>\n",
       "      <td>2534.000000</td>\n",
       "      <td>4962.00000</td>\n",
       "    </tr>\n",
       "  </tbody>\n",
       "</table>\n",
       "</div>"
      ],
      "text/plain": [
       "             DepTime      Distance\n",
       "count  100000.000000  100000.00000\n",
       "mean     1341.523880     729.39716\n",
       "std       476.378445     574.61686\n",
       "min         1.000000      30.00000\n",
       "25%       931.000000     317.00000\n",
       "50%      1330.000000     575.00000\n",
       "75%      1733.000000     957.00000\n",
       "max      2534.000000    4962.00000"
      ]
     },
     "execution_count": 39,
     "metadata": {},
     "output_type": "execute_result"
    }
   ],
   "source": [
    "train_df.describe()"
   ]
  },
  {
   "cell_type": "markdown",
   "metadata": {
    "colab_type": "text",
    "id": "i6k-_fI5Aiyh"
   },
   "source": [
    "Notice, `DepTime` is the departure time in a numeric representation in 2400 hours. "
   ]
  },
  {
   "cell_type": "markdown",
   "metadata": {
    "colab_type": "text",
    "id": "gtZS4-hrlQah"
   },
   "source": [
    " **<font color='teal'>The response variable is 'dep_delayed_15min' which is a categorical column, so we need to map the Y for yes and N for no values to 1 and 0. Run the code in the next cell to do this.</font>**"
   ]
  },
  {
   "cell_type": "code",
   "execution_count": 41,
   "metadata": {
    "ExecuteTime": {
     "end_time": "2019-04-22T15:38:42.677690Z",
     "start_time": "2019-04-22T15:38:42.481963Z"
    },
    "colab": {},
    "colab_type": "code",
    "id": "yRlOTbnW-KYc"
   },
   "outputs": [],
   "source": [
    "#train_df = train_df[train_df.DepTime <= 2400].copy()\n",
    "y_train = train_df['dep_delayed_15min'].map({'Y': 1, 'N': 0}).values"
   ]
  },
  {
   "cell_type": "markdown",
   "metadata": {
    "colab_type": "text",
    "id": "z3WPkFQO9uo9"
   },
   "source": [
    "## Feature Engineering\n",
    "Use these defined functions to create additional features for the model. Run the cell to add the functions to your workspace."
   ]
  },
  {
   "cell_type": "code",
   "execution_count": 43,
   "metadata": {
    "colab": {},
    "colab_type": "code",
    "id": "cXqsqz5W9t3r"
   },
   "outputs": [],
   "source": [
    "def label_enc(df_column):\n",
    "    df_column = LabelEncoder().fit_transform(df_column)\n",
    "    return df_column\n",
    "\n",
    "def make_harmonic_features_sin(value, period=2400):\n",
    "    value *= 2 * np.pi / period \n",
    "    return np.sin(value)\n",
    "\n",
    "def make_harmonic_features_cos(value, period=2400):\n",
    "    value *= 2 * np.pi / period \n",
    "    return np.cos(value)\n",
    "\n",
    "def feature_eng(df):\n",
    "    df['flight'] = df['Origin']+df['Dest']\n",
    "    df['Month'] = df.Month.map(lambda x: x.split('-')[-1]).astype('int32')\n",
    "    df['DayofMonth'] = df.DayofMonth.map(lambda x: x.split('-')[-1]).astype('uint8')\n",
    "    df['begin_of_month'] = (df['DayofMonth'] < 10).astype('uint8')\n",
    "    df['midddle_of_month'] = ((df['DayofMonth'] >= 10)&(df['DayofMonth'] < 20)).astype('uint8')\n",
    "    df['end_of_month'] = (df['DayofMonth'] >= 20).astype('uint8')\n",
    "    df['DayOfWeek'] = df.DayOfWeek.map(lambda x: x.split('-')[-1]).astype('uint8')\n",
    "    df['hour'] = df.DepTime.map(lambda x: x/100).astype('int32')\n",
    "    df['morning'] = df['hour'].map(lambda x: 1 if (x <= 11)& (x >= 7) else 0).astype('uint8')\n",
    "    df['day'] = df['hour'].map(lambda x: 1 if (x >= 12) & (x <= 18) else 0).astype('uint8')\n",
    "    df['evening'] = df['hour'].map(lambda x: 1 if (x >= 19) & (x <= 23) else 0).astype('uint8')\n",
    "    df['night'] = df['hour'].map(lambda x: 1 if (x >= 0) & (x <= 6) else 0).astype('int32')\n",
    "    df['winter'] = df['Month'].map(lambda x: x in [12, 1, 2]).astype('int32')\n",
    "    df['spring'] = df['Month'].map(lambda x: x in [3, 4, 5]).astype('int32')\n",
    "    df['summer'] = df['Month'].map(lambda x: x in [6, 7, 8]).astype('int32')\n",
    "    df['autumn'] = df['Month'].map(lambda x: x in [9, 10, 11]).astype('int32')\n",
    "    df['holiday'] = (df['DayOfWeek'] >= 5).astype(int) \n",
    "    df['weekday'] = (df['DayOfWeek'] < 5).astype(int)\n",
    "    df['airport_dest_per_month'] = df.groupby(['Dest', 'Month'])['Dest'].transform('count')\n",
    "    df['airport_origin_per_month'] = df.groupby(['Origin', 'Month'])['Origin'].transform('count')\n",
    "    df['airport_dest_count'] = df.groupby(['Dest'])['Dest'].transform('count')\n",
    "    df['airport_origin_count'] = df.groupby(['Origin'])['Origin'].transform('count')\n",
    "    df['carrier_count'] = df.groupby(['UniqueCarrier'])['Dest'].transform('count')\n",
    "    df['carrier_count_per month'] = df.groupby(['UniqueCarrier', 'Month'])['Dest'].transform('count')\n",
    "    df['deptime_cos'] = df['DepTime'].map(make_harmonic_features_cos)\n",
    "    df['deptime_sin'] = df['DepTime'].map(make_harmonic_features_sin)\n",
    "    df['flightUC'] = df['flight']+df['UniqueCarrier']\n",
    "    df['DestUC'] = df['Dest']+df['UniqueCarrier']\n",
    "    df['OriginUC'] = df['Origin']+df['UniqueCarrier']\n",
    "    return df.drop('DepTime', axis=1)"
   ]
  },
  {
   "cell_type": "markdown",
   "metadata": {
    "colab_type": "text",
    "id": "-BYbxXpU-FGE"
   },
   "source": [
    "Concatenate the training and testing dataframes.\n"
   ]
  },
  {
   "cell_type": "code",
   "execution_count": 45,
   "metadata": {
    "colab": {},
    "colab_type": "code",
    "id": "Cj6bfSNw_RAf"
   },
   "outputs": [],
   "source": [
    "full_df = pd.concat([train_df.drop('dep_delayed_15min', axis=1), test_df])\n",
    "full_df = feature_eng(full_df)"
   ]
  },
  {
   "cell_type": "markdown",
   "metadata": {
    "colab_type": "text",
    "id": "GSO8JbfM_W-F"
   },
   "source": [
    "Apply the earlier defined feature engineering functions to the full dataframe."
   ]
  },
  {
   "cell_type": "code",
   "execution_count": 47,
   "metadata": {
    "colab": {},
    "colab_type": "code",
    "id": "x6RfAINftjwi"
   },
   "outputs": [],
   "source": [
    "for column in ['UniqueCarrier', 'Origin', 'Dest','flight',  'flightUC', 'DestUC', 'OriginUC']:\n",
    "    full_df[column] = label_enc(full_df[column])"
   ]
  },
  {
   "cell_type": "markdown",
   "metadata": {
    "colab_type": "text",
    "id": "IJAw1RGB_ZuM"
   },
   "source": [
    "\n",
    "Split the new full dataframe into X_train and X_test. "
   ]
  },
  {
   "cell_type": "code",
   "execution_count": 49,
   "metadata": {
    "colab": {},
    "colab_type": "code",
    "id": "15cPtQU5tjfz"
   },
   "outputs": [],
   "source": [
    "X_train = full_df[:train_df.shape[0]]\n",
    "X_test = full_df[train_df.shape[0]:]"
   ]
  },
  {
   "cell_type": "markdown",
   "metadata": {
    "colab_type": "text",
    "id": "umfAw-9JErLV"
   },
   "source": [
    "Create a list of the categorical features."
   ]
  },
  {
   "cell_type": "code",
   "execution_count": 51,
   "metadata": {
    "ExecuteTime": {
     "end_time": "2019-04-22T14:31:58.412296Z",
     "start_time": "2019-04-22T14:31:58.409088Z"
    },
    "colab": {},
    "colab_type": "code",
    "id": "5ibeVyNb-KZI"
   },
   "outputs": [],
   "source": [
    "categorical_features = ['Month',  'DayOfWeek', 'UniqueCarrier', 'Origin', 'Dest','flight',  'flightUC', 'DestUC', 'OriginUC']"
   ]
  },
  {
   "cell_type": "markdown",
   "metadata": {
    "colab_type": "text",
    "id": "NzMIsMPIETVk"
   },
   "source": [
    "Let's build a light GBM model to test the bayesian optimizer."
   ]
  },
  {
   "cell_type": "markdown",
   "metadata": {
    "ExecuteTime": {
     "end_time": "2019-04-22T15:18:04.466965Z",
     "start_time": "2019-04-22T15:18:04.457992Z"
    },
    "colab_type": "text",
    "id": "2hfm1i5G-KZH"
   },
   "source": [
    "### [LightGBM](https://lightgbm.readthedocs.io/en/latest/) is a gradient boosting framework that uses tree-based learning algorithms. It is designed to be distributed and efficient with the following advantages:\n",
    "\n",
    "* Faster training speed and higher efficiency.\n",
    "* Lower memory usage.\n",
    "* Better accuracy.\n",
    "* Support of parallel and GPU learning.\n",
    "* Capable of handling large-scale data."
   ]
  },
  {
   "cell_type": "markdown",
   "metadata": {
    "colab_type": "text",
    "id": "jf-3F2Wg-KZL"
   },
   "source": [
    "First, we define the function we want to maximize and that will count cross-validation metrics of lightGBM for our parameters.\n",
    "\n",
    "Some params such as num_leaves, max_depth, min_child_samples, min_data_in_leaf should be integers."
   ]
  },
  {
   "cell_type": "code",
   "execution_count": 53,
   "metadata": {
    "ExecuteTime": {
     "end_time": "2019-04-22T15:40:14.034265Z",
     "start_time": "2019-04-22T15:40:14.027868Z"
    },
    "colab": {},
    "colab_type": "code",
    "id": "LyUJBhGX-KZM"
   },
   "outputs": [],
   "source": [
    "def lgb_eval(num_leaves,max_depth,lambda_l2,lambda_l1,min_child_samples, min_data_in_leaf):\n",
    "    params = {\n",
    "        \"objective\" : \"binary\",\n",
    "        \"metric\" : \"auc\", \n",
    "        'is_unbalance': True,\n",
    "        \"num_leaves\" : int(num_leaves),\n",
    "        \"max_depth\" : int(max_depth),\n",
    "        \"lambda_l2\" : lambda_l2,\n",
    "        \"lambda_l1\" : lambda_l1,\n",
    "        \"num_threads\" : 20,\n",
    "        \"min_child_samples\" : int(min_child_samples),\n",
    "        'min_data_in_leaf': int(min_data_in_leaf),\n",
    "        \"learning_rate\" : 0.03,\n",
    "        \"subsample_freq\" : 5,\n",
    "        \"bagging_seed\" : 42,\n",
    "        \"verbosity\" : -1\n",
    "    }\n",
    "    lgtrain = lightgbm.Dataset(X_train, y_train,categorical_feature=categorical_features)\n",
    "    cv_result = lightgbm.cv(params,\n",
    "                       lgtrain,\n",
    "                       1000,\n",
    "                       stratified=True,\n",
    "                       nfold=3)\n",
    "    return cv_result['valid auc-mean'][-1]"
   ]
  },
  {
   "cell_type": "markdown",
   "metadata": {
    "colab_type": "text",
    "id": "FJwqBhdeF11Q"
   },
   "source": [
    "Apply the Bayesian optimizer to the function we created in the previous step to identify the best hyperparameters. We will run 5 iterations and set init_points = 2.\n"
   ]
  },
  {
   "cell_type": "code",
   "execution_count": 55,
   "metadata": {
    "ExecuteTime": {
     "end_time": "2019-04-22T15:48:04.682447Z",
     "start_time": "2019-04-22T15:40:14.641634Z"
    },
    "colab": {
     "base_uri": "https://localhost:8080/",
     "height": 51
    },
    "colab_type": "code",
    "id": "JheCOkUE-KZP",
    "outputId": "8f37ee51-885d-44e4-cdcd-ceb7abd58b61"
   },
   "outputs": [
    {
     "name": "stdout",
     "output_type": "stream",
     "text": [
      "|   iter    |  target   | lambda_l1 | lambda_l2 | max_depth | min_ch... | min_da... | num_le... |\n",
      "-------------------------------------------------------------------------------------------------\n",
      "| \u001b[39m1        \u001b[39m | \u001b[39m0.722    \u001b[39m | \u001b[39m0.001778 \u001b[39m | \u001b[39m0.03655  \u001b[39m | \u001b[39m61.78    \u001b[39m | \u001b[39m7.334e+03\u001b[39m | \u001b[39m874.0    \u001b[39m | \u001b[39m256.2    \u001b[39m |\n",
      "| \u001b[35m2        \u001b[39m | \u001b[35m0.743    \u001b[39m | \u001b[35m0.03516  \u001b[39m | \u001b[35m0.02138  \u001b[39m | \u001b[35m33.9     \u001b[39m | \u001b[35m7.373e+03\u001b[39m | \u001b[35m1.379e+03\u001b[39m | \u001b[35m214.9    \u001b[39m |\n",
      "| \u001b[39m3        \u001b[39m | \u001b[39m0.7091   \u001b[39m | \u001b[39m0.02189  \u001b[39m | \u001b[39m0.04255  \u001b[39m | \u001b[39m62.3     \u001b[39m | \u001b[39m8.945e+03\u001b[39m | \u001b[39m518.5    \u001b[39m | \u001b[39m2.41e+03 \u001b[39m |\n",
      "| \u001b[35m4        \u001b[39m | \u001b[35m0.7435   \u001b[39m | \u001b[35m0.004789 \u001b[39m | \u001b[35m0.004503 \u001b[39m | \u001b[35m32.7     \u001b[39m | \u001b[35m1.657e+03\u001b[39m | \u001b[35m1.907e+03\u001b[39m | \u001b[35m3.97e+03 \u001b[39m |\n",
      "| \u001b[39m5        \u001b[39m | \u001b[39m0.7431   \u001b[39m | \u001b[39m0.04592  \u001b[39m | \u001b[39m0.00881  \u001b[39m | \u001b[39m11.17    \u001b[39m | \u001b[39m4.329e+03\u001b[39m | \u001b[39m1.439e+03\u001b[39m | \u001b[39m2.269e+03\u001b[39m |\n",
      "| \u001b[39m6        \u001b[39m | \u001b[39m0.7005   \u001b[39m | \u001b[39m0.01449  \u001b[39m | \u001b[39m0.04472  \u001b[39m | \u001b[39m15.86    \u001b[39m | \u001b[39m1.664e+03\u001b[39m | \u001b[39m301.2    \u001b[39m | \u001b[39m2.572e+03\u001b[39m |\n",
      "| \u001b[35m7        \u001b[39m | \u001b[35m0.7435   \u001b[39m | \u001b[35m0.002058 \u001b[39m | \u001b[35m0.02592  \u001b[39m | \u001b[35m20.84    \u001b[39m | \u001b[35m3.287e+03\u001b[39m | \u001b[35m1.949e+03\u001b[39m | \u001b[35m1.526e+03\u001b[39m |\n",
      "=================================================================================================\n"
     ]
    }
   ],
   "source": [
    "lgbBO = BayesianOptimization(lgb_eval, {'num_leaves': (25, 4000),\n",
    "                                                'max_depth': (5, 63),\n",
    "                                                'lambda_l2': (0.0, 0.05),\n",
    "                                                'lambda_l1': (0.0, 0.05),\n",
    "                                                'min_child_samples': (50, 10000),\n",
    "                                                'min_data_in_leaf': (100, 2000)\n",
    "                                                })\n",
    "\n",
    "lgbBO.maximize(n_iter=5, init_points=2)"
   ]
  },
  {
   "cell_type": "markdown",
   "metadata": {
    "colab_type": "text",
    "id": "rdkxhhST-KZS"
   },
   "source": [
    " **<font color='teal'> Print the best result by using the '.max' function.</font>**"
   ]
  },
  {
   "cell_type": "code",
   "execution_count": 56,
   "metadata": {
    "ExecuteTime": {
     "end_time": "2019-04-22T15:49:01.513767Z",
     "start_time": "2019-04-22T15:49:01.509392Z"
    },
    "colab": {},
    "colab_type": "code",
    "id": "oc8z6mfy-KZS"
   },
   "outputs": [
    {
     "data": {
      "text/plain": [
       "{'target': 0.7435307921747998,\n",
       " 'params': {'lambda_l1': 0.0020581073430686824,\n",
       "  'lambda_l2': 0.02591869007194237,\n",
       "  'max_depth': 20.836129304811518,\n",
       "  'min_child_samples': 3286.5259403591585,\n",
       "  'min_data_in_leaf': 1949.0452671446062,\n",
       "  'num_leaves': 1525.9785048830302}}"
      ]
     },
     "execution_count": 56,
     "metadata": {},
     "output_type": "execute_result"
    }
   ],
   "source": [
    "lgbBO.max"
   ]
  },
  {
   "cell_type": "markdown",
   "metadata": {
    "ExecuteTime": {
     "end_time": "2019-04-22T15:50:29.049881Z",
     "start_time": "2019-04-22T15:50:29.045908Z"
    },
    "colab_type": "text",
    "id": "J5LAydKC-KZW"
   },
   "source": [
    "Review the process at each step by using the '.res[0]' function."
   ]
  },
  {
   "cell_type": "code",
   "execution_count": 57,
   "metadata": {
    "ExecuteTime": {
     "end_time": "2019-04-22T15:51:01.001688Z",
     "start_time": "2019-04-22T15:51:00.997484Z"
    },
    "colab": {},
    "colab_type": "code",
    "id": "X1ttZmrI-KZX"
   },
   "outputs": [
    {
     "data": {
      "text/plain": [
       "{'target': 0.7220434718132872,\n",
       " 'params': {'lambda_l1': 0.001777830589627355,\n",
       "  'lambda_l2': 0.036547156959250246,\n",
       "  'max_depth': 61.78042518850228,\n",
       "  'min_child_samples': 7334.236584822673,\n",
       "  'min_data_in_leaf': 874.0134141486976,\n",
       "  'num_leaves': 256.1796607589072}}"
      ]
     },
     "execution_count": 57,
     "metadata": {},
     "output_type": "execute_result"
    }
   ],
   "source": [
    "lgbBO.res[0]"
   ]
  },
  {
   "cell_type": "code",
   "execution_count": null,
   "metadata": {},
   "outputs": [],
   "source": []
  }
 ],
 "metadata": {
  "colab": {
   "name": "Bayesian_optimization_exercise.ipynb",
   "provenance": []
  },
  "deepnote_execution_queue": [],
  "kernelspec": {
   "display_name": "Python 3 (ipykernel)",
   "language": "python",
   "name": "python3"
  },
  "language_info": {
   "codemirror_mode": {
    "name": "ipython",
    "version": 3
   },
   "file_extension": ".py",
   "mimetype": "text/x-python",
   "name": "python",
   "nbconvert_exporter": "python",
   "pygments_lexer": "ipython3",
   "version": "3.11.7"
  },
  "varInspector": {
   "cols": {
    "lenName": 16,
    "lenType": 16,
    "lenVar": 40
   },
   "kernels_config": {
    "python": {
     "delete_cmd_postfix": "",
     "delete_cmd_prefix": "del ",
     "library": "var_list.py",
     "varRefreshCmd": "print(var_dic_list())"
    },
    "r": {
     "delete_cmd_postfix": ") ",
     "delete_cmd_prefix": "rm(",
     "library": "var_list.r",
     "varRefreshCmd": "cat(var_dic_list()) "
    }
   },
   "types_to_exclude": [
    "module",
    "function",
    "builtin_function_or_method",
    "instance",
    "_Feature"
   ],
   "window_display": false
  }
 },
 "nbformat": 4,
 "nbformat_minor": 4
}
